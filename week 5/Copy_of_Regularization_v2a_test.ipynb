{
  "cells": [
    {
      "cell_type": "code",
      "source": [
        "import numpy as np\n",
        "import matplotlib.pyplot as plt\n",
        "import h5py\n",
        "import sklearn\n",
        "import sklearn.datasets\n",
        "\n",
        "def sigmoid(x):\n",
        "    \"\"\"\n",
        "    Compute the sigmoid of x\n",
        "\n",
        "    Arguments:\n",
        "    x -- A scalar or numpy array of any size.\n",
        "\n",
        "    Return:\n",
        "    s -- sigmoid(x)\n",
        "    \"\"\"\n",
        "    s = 1/(1+np.exp(-x))\n",
        "    return s\n",
        "\n",
        "def relu(x):\n",
        "    \"\"\"\n",
        "    Compute the relu of x\n",
        "\n",
        "    Arguments:\n",
        "    x -- A scalar or numpy array of any size.\n",
        "\n",
        "    Return:\n",
        "    s -- relu(x)\n",
        "    \"\"\"\n",
        "    s = np.maximum(0,x)\n",
        "\n",
        "    return s\n",
        "\n",
        "def forward_propagation(X, parameters):\n",
        "    \"\"\"\n",
        "    Implements the forward propagation (and computes the loss) presented in Figure 2.\n",
        "\n",
        "    Arguments:\n",
        "    X -- input dataset, of shape (input size, number of examples)\n",
        "    Y -- true \"label\" vector (containing 0 if cat, 1 if non-cat)\n",
        "    parameters -- python dictionary containing your parameters \"W1\", \"b1\", \"W2\", \"b2\", \"W3\", \"b3\":\n",
        "                    W1 -- weight matrix of shape ()\n",
        "                    b1 -- bias vector of shape ()\n",
        "                    W2 -- weight matrix of shape ()\n",
        "                    b2 -- bias vector of shape ()\n",
        "                    W3 -- weight matrix of shape ()\n",
        "                    b3 -- bias vector of shape ()\n",
        "\n",
        "    Returns:\n",
        "    loss -- the loss function (vanilla logistic loss)\n",
        "    \"\"\"\n",
        "\n",
        "    # retrieve parameters\n",
        "    W1 = parameters[\"W1\"]\n",
        "    b1 = parameters[\"b1\"]\n",
        "    W2 = parameters[\"W2\"]\n",
        "    b2 = parameters[\"b2\"]\n",
        "    W3 = parameters[\"W3\"]\n",
        "    b3 = parameters[\"b3\"]\n",
        "\n",
        "    # LINEAR -> RELU -> LINEAR -> RELU -> LINEAR -> SIGMOID\n",
        "    z1 = np.dot(W1, X) + b1\n",
        "    a1 = relu(z1)\n",
        "    z2 = np.dot(W2, a1) + b2\n",
        "    a2 = relu(z2)\n",
        "    z3 = np.dot(W3, a2) + b3\n",
        "    a3 = sigmoid(z3)\n",
        "\n",
        "    cache = (z1, a1, W1, b1, z2, a2, W2, b2, z3, a3, W3, b3)\n",
        "\n",
        "    return a3, cache\n",
        "\n",
        "def backward_propagation(X, Y, cache):\n",
        "    \"\"\"\n",
        "    Implement the backward propagation presented in figure 2.\n",
        "\n",
        "    Arguments:\n",
        "    X -- input dataset, of shape (input size, number of examples)\n",
        "    Y -- true \"label\" vector (containing 0 if cat, 1 if non-cat)\n",
        "    cache -- cache output from forward_propagation()\n",
        "\n",
        "    Returns:\n",
        "    gradients -- A dictionary with the gradients with respect to each parameter, activation and pre-activation variables\n",
        "    \"\"\"\n",
        "    m = X.shape[1]\n",
        "    (z1, a1, W1, b1, z2, a2, W2, b2, z3, a3, W3, b3) = cache\n",
        "\n",
        "    dz3 = 1./m * (a3 - Y)\n",
        "    dW3 = np.dot(dz3, a2.T)\n",
        "    db3 = np.sum(dz3, axis=1, keepdims = True)\n",
        "\n",
        "    da2 = np.dot(W3.T, dz3)\n",
        "    dz2 = np.multiply(da2, np.int64(a2 > 0))\n",
        "    dW2 = np.dot(dz2, a1.T)\n",
        "    db2 = np.sum(dz2, axis=1, keepdims = True)\n",
        "\n",
        "    da1 = np.dot(W2.T, dz2)\n",
        "    dz1 = np.multiply(da1, np.int64(a1 > 0))\n",
        "    dW1 = np.dot(dz1, X.T)\n",
        "    db1 = np.sum(dz1, axis=1, keepdims = True)\n",
        "\n",
        "    gradients = {\"dz3\": dz3, \"dW3\": dW3, \"db3\": db3,\n",
        "                 \"da2\": da2, \"dz2\": dz2, \"dW2\": dW2, \"db2\": db2,\n",
        "                 \"da1\": da1, \"dz1\": dz1, \"dW1\": dW1, \"db1\": db1}\n",
        "\n",
        "    return gradients\n",
        "\n",
        "def update_parameters(parameters, grads, learning_rate):\n",
        "    \"\"\"\n",
        "    Update parameters using gradient descent\n",
        "\n",
        "    Arguments:\n",
        "    parameters -- python dictionary containing your parameters\n",
        "    grads -- python dictionary containing your gradients, output of n_model_backward\n",
        "\n",
        "    Returns:\n",
        "    parameters -- python dictionary containing your updated parameters\n",
        "                  parameters['W' + str(i)] = ...\n",
        "                  parameters['b' + str(i)] = ...\n",
        "    \"\"\"\n",
        "\n",
        "    L = len(parameters) // 2 # number of layers in the neural networks\n",
        "\n",
        "    # Update rule for each parameter\n",
        "    for k in range(L):\n",
        "        parameters[\"W\" + str(k+1)] = parameters[\"W\" + str(k+1)] - learning_rate * grads[\"dW\" + str(k+1)]\n",
        "        parameters[\"b\" + str(k+1)] = parameters[\"b\" + str(k+1)] - learning_rate * grads[\"db\" + str(k+1)]\n",
        "\n",
        "    return parameters\n",
        "\n",
        "def compute_loss(a3, Y):\n",
        "\n",
        "    \"\"\"\n",
        "    Implement the loss function\n",
        "\n",
        "    Arguments:\n",
        "    a3 -- post-activation, output of forward propagation\n",
        "    Y -- \"true\" labels vector, same shape as a3\n",
        "\n",
        "    Returns:\n",
        "    loss - value of the loss function\n",
        "    \"\"\"\n",
        "\n",
        "    m = Y.shape[1]\n",
        "    logprobs = np.multiply(-np.log(a3),Y) + np.multiply(-np.log(1 - a3), 1 - Y)\n",
        "    loss = 1./m * np.nansum(logprobs)\n",
        "\n",
        "    return loss\n",
        "\n",
        "def load_cat_dataset():\n",
        "    train_dataset = h5py.File('datasets/train_catvnoncat.h5', \"r\")\n",
        "    train_set_x_orig = np.array(train_dataset[\"train_set_x\"][:]) # your train set features\n",
        "    train_set_y_orig = np.array(train_dataset[\"train_set_y\"][:]) # your train set labels\n",
        "\n",
        "    test_dataset = h5py.File('datasets/test_catvnoncat.h5', \"r\")\n",
        "    test_set_x_orig = np.array(test_dataset[\"test_set_x\"][:]) # your test set features\n",
        "    test_set_y_orig = np.array(test_dataset[\"test_set_y\"][:]) # your test set labels\n",
        "\n",
        "    classes = np.array(test_dataset[\"list_classes\"][:]) # the list of classes\n",
        "\n",
        "    train_set_y = train_set_y_orig.reshape((1, train_set_y_orig.shape[0]))\n",
        "    test_set_y = test_set_y_orig.reshape((1, test_set_y_orig.shape[0]))\n",
        "\n",
        "    train_set_x_orig = train_set_x_orig.reshape(train_set_x_orig.shape[0], -1).T\n",
        "    test_set_x_orig = test_set_x_orig.reshape(test_set_x_orig.shape[0], -1).T\n",
        "\n",
        "    train_set_x = train_set_x_orig/255\n",
        "    test_set_x = test_set_x_orig/255\n",
        "\n",
        "    return train_set_x, train_set_y, test_set_x, test_set_y, classes\n",
        "\n",
        "\n",
        "def predict(X, y, parameters):\n",
        "    \"\"\"\n",
        "    This function is used to predict the results of a  n-layer neural network.\n",
        "\n",
        "    Arguments:\n",
        "    X -- data set of examples you would like to label\n",
        "    parameters -- parameters of the trained model\n",
        "\n",
        "    Returns:\n",
        "    p -- predictions for the given dataset X\n",
        "    \"\"\"\n",
        "\n",
        "    m = X.shape[1]\n",
        "    p = np.zeros((1,m), dtype = int)\n",
        "\n",
        "    # Forward propagation\n",
        "    a3, caches = forward_propagation(X, parameters)\n",
        "\n",
        "    # convert probas to 0/1 predictions\n",
        "    for i in range(0, a3.shape[1]):\n",
        "        if a3[0,i] > 0.5:\n",
        "            p[0,i] = 1\n",
        "        else:\n",
        "            p[0,i] = 0\n",
        "\n",
        "    # print results\n",
        "    print(\"Accuracy: \"  + str(np.mean((p[0,:] == y[0,:]))))\n",
        "\n",
        "    return p\n",
        "\n",
        "def plot_decision_boundary(model, X, y):\n",
        "    # Set min and max values and give it some padding\n",
        "    x_min, x_max = X[0, :].min() - 1, X[0, :].max() + 1\n",
        "    y_min, y_max = X[1, :].min() - 1, X[1, :].max() + 1\n",
        "    h = 0.01\n",
        "    # Generate a grid of points with distance h between them\n",
        "    xx, yy = np.meshgrid(np.arange(x_min, x_max, h), np.arange(y_min, y_max, h))\n",
        "    # Predict the function value for the whole grid\n",
        "    Z = model(np.c_[xx.ravel(), yy.ravel()])\n",
        "    Z = Z.reshape(xx.shape)\n",
        "    # Plot the contour and training examples\n",
        "    plt.contourf(xx, yy, Z, cmap=plt.cm.Spectral)\n",
        "    plt.ylabel('x2')\n",
        "    plt.xlabel('x1')\n",
        "    plt.scatter(X[0, :], X[1, :], c=y, cmap=plt.cm.Spectral)\n",
        "    plt.show()\n",
        "\n",
        "def predict_dec(parameters, X):\n",
        "    \"\"\"\n",
        "    Used for plotting decision boundary.\n",
        "\n",
        "    Arguments:\n",
        "    parameters -- python dictionary containing your parameters\n",
        "    X -- input data of size (m, K)\n",
        "\n",
        "    Returns\n",
        "    predictions -- vector of predictions of our model (red: 0 / blue: 1)\n",
        "    \"\"\"\n",
        "\n",
        "    # Predict using forward propagation and a classification threshold of 0.5\n",
        "    a3, cache = forward_propagation(X, parameters)\n",
        "    predictions = (a3>0.5)\n",
        "    return predictions\n",
        "\n",
        "def load_dataset():\n",
        "    np.random.seed(1)\n",
        "    train_X, train_Y = sklearn.datasets.make_circles(n_samples=300, noise=.05)\n",
        "    np.random.seed(2)\n",
        "    test_X, test_Y = sklearn.datasets.make_circles(n_samples=100, noise=.05)\n",
        "    # Visualize the data\n",
        "    plt.scatter(train_X[:, 0], train_X[:, 1], c=train_Y, s=40, cmap=plt.cm.Spectral);\n",
        "    train_X = train_X.T\n",
        "    train_Y = train_Y.reshape((1, train_Y.shape[0]))\n",
        "    test_X = test_X.T\n",
        "    test_Y = test_Y.reshape((1, test_Y.shape[0]))\n",
        "    return train_X, train_Y, test_X, test_Y"
      ],
      "metadata": {
        "id": "0wswm2O9kwAH"
      },
      "execution_count": null,
      "outputs": []
    },
    {
      "cell_type": "markdown",
      "metadata": {
        "id": "trnIkV2okAgu"
      },
      "source": [
        "# Regularization\n",
        "\n",
        "Welcome to the second assignment of this week. Deep Learning models have so much flexibility and capacity that **overfitting can be a serious problem**, if the training dataset is not big enough. Sure it does well on the training set, but the learned network **doesn't generalize to new examples** that it has never seen!\n",
        "\n",
        "**You will learn to:** Use regularization in your deep learning models.\n",
        "\n",
        "Let's first import the packages you are going to use."
      ]
    },
    {
      "cell_type": "markdown",
      "metadata": {
        "id": "YF8e3eFekAgy"
      },
      "source": [
        "### <font color='darkblue'> Updates to Assignment <font>\n",
        "\n",
        "#### If you were working on a previous version\n",
        "* The current notebook filename is version \"2a\".\n",
        "* You can find your work in the file directory as version \"2\".\n",
        "* To see the file directory, click on the Coursera logo at the top left of the notebook.\n",
        "\n",
        "#### List of Updates\n",
        "* Clarified explanation of 'keep_prob' in the text description.\n",
        "* Fixed a comment so that keep_prob and 1-keep_prob add up to 100%\n",
        "* Updated print statements and 'expected output' for easier visual comparisons."
      ]
    },
    {
      "cell_type": "code",
      "source": [
        "\n",
        "import numpy as np\n",
        "\n",
        "def compute_cost_with_regularization_test_case():\n",
        "    np.random.seed(1)\n",
        "    Y_assess = np.array([[1, 1, 0, 1, 0]])\n",
        "    W1 = np.random.randn(2, 3)\n",
        "    b1 = np.random.randn(2, 1)\n",
        "    W2 = np.random.randn(3, 2)\n",
        "    b2 = np.random.randn(3, 1)\n",
        "    W3 = np.random.randn(1, 3)\n",
        "    b3 = np.random.randn(1, 1)\n",
        "    parameters = {\"W1\": W1, \"b1\": b1, \"W2\": W2, \"b2\": b2, \"W3\": W3, \"b3\": b3}\n",
        "    a3 = np.array([[ 0.40682402,  0.01629284,  0.16722898,  0.10118111,  0.40682402]])\n",
        "    return a3, Y_assess, parameters\n",
        "\n",
        "def backward_propagation_with_regularization_test_case():\n",
        "    np.random.seed(1)\n",
        "    X_assess = np.random.randn(3, 5)\n",
        "    Y_assess = np.array([[1, 1, 0, 1, 0]])\n",
        "    cache = (np.array([[-1.52855314,  3.32524635,  2.13994541,  2.60700654, -0.75942115],\n",
        "         [-1.98043538,  4.1600994 ,  0.79051021,  1.46493512, -0.45506242]]),\n",
        "  np.array([[ 0.        ,  3.32524635,  2.13994541,  2.60700654,  0.        ],\n",
        "         [ 0.        ,  4.1600994 ,  0.79051021,  1.46493512,  0.        ]]),\n",
        "  np.array([[-1.09989127, -0.17242821, -0.87785842],\n",
        "         [ 0.04221375,  0.58281521, -1.10061918]]),\n",
        "  np.array([[ 1.14472371],\n",
        "         [ 0.90159072]]),\n",
        "  np.array([[ 0.53035547,  5.94892323,  2.31780174,  3.16005701,  0.53035547],\n",
        "         [-0.69166075, -3.47645987, -2.25194702, -2.65416996, -0.69166075],\n",
        "         [-0.39675353, -4.62285846, -2.61101729, -3.22874921, -0.39675353]]),\n",
        "  np.array([[ 0.53035547,  5.94892323,  2.31780174,  3.16005701,  0.53035547],\n",
        "         [ 0.        ,  0.        ,  0.        ,  0.        ,  0.        ],\n",
        "         [ 0.        ,  0.        ,  0.        ,  0.        ,  0.        ]]),\n",
        "  np.array([[ 0.50249434,  0.90085595],\n",
        "         [-0.68372786, -0.12289023],\n",
        "         [-0.93576943, -0.26788808]]),\n",
        "  np.array([[ 0.53035547],\n",
        "         [-0.69166075],\n",
        "         [-0.39675353]]),\n",
        "  np.array([[-0.3771104 , -4.10060224, -1.60539468, -2.18416951, -0.3771104 ]]),\n",
        "  np.array([[ 0.40682402,  0.01629284,  0.16722898,  0.10118111,  0.40682402]]),\n",
        "  np.array([[-0.6871727 , -0.84520564, -0.67124613]]),\n",
        "  np.array([[-0.0126646]]))\n",
        "    return X_assess, Y_assess, cache\n",
        "\n",
        "def forward_propagation_with_dropout_test_case():\n",
        "    np.random.seed(1)\n",
        "    X_assess = np.random.randn(3, 5)\n",
        "    W1 = np.random.randn(2, 3)\n",
        "    b1 = np.random.randn(2, 1)\n",
        "    W2 = np.random.randn(3, 2)\n",
        "    b2 = np.random.randn(3, 1)\n",
        "    W3 = np.random.randn(1, 3)\n",
        "    b3 = np.random.randn(1, 1)\n",
        "    parameters = {\"W1\": W1, \"b1\": b1, \"W2\": W2, \"b2\": b2, \"W3\": W3, \"b3\": b3}\n",
        "\n",
        "    return X_assess, parameters\n",
        "\n",
        "def backward_propagation_with_dropout_test_case():\n",
        "    np.random.seed(1)\n",
        "    X_assess = np.random.randn(3, 5)\n",
        "    Y_assess = np.array([[1, 1, 0, 1, 0]])\n",
        "    cache = (np.array([[-1.52855314,  3.32524635,  2.13994541,  2.60700654, -0.75942115],\n",
        "           [-1.98043538,  4.1600994 ,  0.79051021,  1.46493512, -0.45506242]]), np.array([[ True, False,  True,  True,  True],\n",
        "           [ True,  True,  True,  True, False]], dtype=bool), np.array([[ 0.        ,  0.        ,  4.27989081,  5.21401307,  0.        ],\n",
        "           [ 0.        ,  8.32019881,  1.58102041,  2.92987024,  0.        ]]), np.array([[-1.09989127, -0.17242821, -0.87785842],\n",
        "           [ 0.04221375,  0.58281521, -1.10061918]]), np.array([[ 1.14472371],\n",
        "           [ 0.90159072]]), np.array([[ 0.53035547,  8.02565606,  4.10524802,  5.78975856,  0.53035547],\n",
        "           [-0.69166075, -1.71413186, -3.81223329, -4.61667916, -0.69166075],\n",
        "           [-0.39675353, -2.62563561, -4.82528105, -6.0607449 , -0.39675353]]), np.array([[ True, False,  True, False,  True],\n",
        "           [False,  True, False,  True,  True],\n",
        "           [False, False,  True, False, False]], dtype=bool), np.array([[ 1.06071093,  0.        ,  8.21049603,  0.        ,  1.06071093],\n",
        "           [ 0.        ,  0.        ,  0.        ,  0.        ,  0.        ],\n",
        "           [ 0.        ,  0.        ,  0.        ,  0.        ,  0.        ]]), np.array([[ 0.50249434,  0.90085595],\n",
        "           [-0.68372786, -0.12289023],\n",
        "           [-0.93576943, -0.26788808]]), np.array([[ 0.53035547],\n",
        "           [-0.69166075],\n",
        "           [-0.39675353]]), np.array([[-0.7415562 , -0.0126646 , -5.65469333, -0.0126646 , -0.7415562 ]]), np.array([[ 0.32266394,  0.49683389,  0.00348883,  0.49683389,  0.32266394]]), np.array([[-0.6871727 , -0.84520564, -0.67124613]]), np.array([[-0.0126646]]))\n",
        "\n",
        "\n",
        "    return X_assess, Y_assess, cache"
      ],
      "metadata": {
        "id": "kYS9IVVbk8M0"
      },
      "execution_count": null,
      "outputs": []
    },
    {
      "cell_type": "code",
      "execution_count": null,
      "metadata": {
        "id": "m4badIeRkAgz"
      },
      "outputs": [],
      "source": [
        "# import packages\n",
        "import numpy as np\n",
        "import matplotlib.pyplot as plt\n",
        "import sklearn\n",
        "import sklearn.datasets\n",
        "import scipy.io\n",
        "\n",
        "\n",
        "%matplotlib inline\n",
        "plt.rcParams['figure.figsize'] = (7.0, 4.0) # set default size of plots\n",
        "plt.rcParams['image.interpolation'] = 'nearest'\n",
        "plt.rcParams['image.cmap'] = 'gray'"
      ]
    },
    {
      "cell_type": "markdown",
      "metadata": {
        "id": "lQ5_6RXukAg0"
      },
      "source": [
        "**Problem Statement**: You have just been hired as an AI expert by the French Football Corporation. They would like you to recommend positions where France's goal keeper should kick the ball so that the French team's players can then hit it with their head.\n",
        "\n",
        "<img src=\"images/field_kiank.png\" style=\"width:600px;height:350px;\">\n",
        "<caption><center> <u> **Figure 1** </u>: **Football field**<br> The goal keeper kicks the ball in the air, the players of each team are fighting to hit the ball with their head </center></caption>\n",
        "\n",
        "\n",
        "They give you the following 2D dataset from France's past 10 games."
      ]
    },
    {
      "cell_type": "code",
      "execution_count": null,
      "metadata": {
        "scrolled": false,
        "id": "ajlYeKL5kAg1",
        "outputId": "5f085f7c-18e3-4289-e18d-b7e4ff9719af",
        "colab": {
          "base_uri": "https://localhost:8080/",
          "height": 139
        }
      },
      "outputs": [
        {
          "output_type": "error",
          "ename": "NameError",
          "evalue": "name 'load_2D_dataset' is not defined",
          "traceback": [
            "\u001b[0;31m---------------------------------------------------------------------------\u001b[0m",
            "\u001b[0;31mNameError\u001b[0m                                 Traceback (most recent call last)",
            "\u001b[0;32m/tmp/ipython-input-11-88511207.py\u001b[0m in \u001b[0;36m<cell line: 0>\u001b[0;34m()\u001b[0m\n\u001b[0;32m----> 1\u001b[0;31m \u001b[0mtrain_X\u001b[0m\u001b[0;34m,\u001b[0m \u001b[0mtrain_Y\u001b[0m\u001b[0;34m,\u001b[0m \u001b[0mtest_X\u001b[0m\u001b[0;34m,\u001b[0m \u001b[0mtest_Y\u001b[0m \u001b[0;34m=\u001b[0m \u001b[0mload_2D_dataset\u001b[0m\u001b[0;34m(\u001b[0m\u001b[0;34m)\u001b[0m\u001b[0;34m\u001b[0m\u001b[0;34m\u001b[0m\u001b[0m\n\u001b[0m",
            "\u001b[0;31mNameError\u001b[0m: name 'load_2D_dataset' is not defined"
          ]
        }
      ],
      "source": [
        "train_X, train_Y, test_X, test_Y = load_2D_dataset()"
      ]
    },
    {
      "cell_type": "markdown",
      "metadata": {
        "id": "vQfjoRXfkAg1"
      },
      "source": [
        "Each dot corresponds to a position on the football field where a football player has hit the ball with his/her head after the French goal keeper has shot the ball from the left side of the football field.\n",
        "- If the dot is blue, it means the French player managed to hit the ball with his/her head\n",
        "- If the dot is red, it means the other team's player hit the ball with their head\n",
        "\n",
        "**Your goal**: Use a deep learning model to find the positions on the field where the goalkeeper should kick the ball."
      ]
    },
    {
      "cell_type": "markdown",
      "metadata": {
        "id": "Lbb_-CMrkAg1"
      },
      "source": [
        "**Analysis of the dataset**: This dataset is a little noisy, but it looks like a diagonal line separating the upper left half (blue) from the lower right half (red) would work well.\n",
        "\n",
        "You will first try a non-regularized model. Then you'll learn how to regularize it and decide which model you will choose to solve the French Football Corporation's problem."
      ]
    },
    {
      "cell_type": "markdown",
      "metadata": {
        "id": "0d6pp40ukAg2"
      },
      "source": [
        "## 1 - Non-regularized model\n",
        "\n",
        "You will use the following neural network (already implemented for you below). This model can be used:\n",
        "- in *regularization mode* -- by setting the `lambd` input to a non-zero value. We use \"`lambd`\" instead of \"`lambda`\" because \"`lambda`\" is a reserved keyword in Python.\n",
        "- in *dropout mode* -- by setting the `keep_prob` to a value less than one\n",
        "\n",
        "You will first try the model without any regularization. Then, you will implement:\n",
        "- *L2 regularization* -- functions: \"`compute_cost_with_regularization()`\" and \"`backward_propagation_with_regularization()`\"\n",
        "- *Dropout* -- functions: \"`forward_propagation_with_dropout()`\" and \"`backward_propagation_with_dropout()`\"\n",
        "\n",
        "In each part, you will run this model with the correct inputs so that it calls the functions you've implemented. Take a look at the code below to familiarize yourself with the model."
      ]
    },
    {
      "cell_type": "code",
      "execution_count": null,
      "metadata": {
        "id": "A5xrMUg4kAg2"
      },
      "outputs": [],
      "source": [
        "def model(X, Y, learning_rate = 0.3, num_iterations = 30000, print_cost = True, lambd = 0, keep_prob = 1):\n",
        "    \"\"\"\n",
        "    Implements a three-layer neural network: LINEAR->RELU->LINEAR->RELU->LINEAR->SIGMOID.\n",
        "\n",
        "    Arguments:\n",
        "    X -- input data, of shape (input size, number of examples)\n",
        "    Y -- true \"label\" vector (1 for blue dot / 0 for red dot), of shape (output size, number of examples)\n",
        "    learning_rate -- learning rate of the optimization\n",
        "    num_iterations -- number of iterations of the optimization loop\n",
        "    print_cost -- If True, print the cost every 10000 iterations\n",
        "    lambd -- regularization hyperparameter, scalar\n",
        "    keep_prob - probability of keeping a neuron active during drop-out, scalar.\n",
        "\n",
        "    Returns:\n",
        "    parameters -- parameters learned by the model. They can then be used to predict.\n",
        "    \"\"\"\n",
        "\n",
        "    grads = {}\n",
        "    costs = []                            # to keep track of the cost\n",
        "    m = X.shape[1]                        # number of examples\n",
        "    layers_dims = [X.shape[0], 20, 3, 1]\n",
        "\n",
        "    # Initialize parameters dictionary.\n",
        "    parameters = initialize_parameters(layers_dims)\n",
        "\n",
        "    # Loop (gradient descent)\n",
        "\n",
        "    for i in range(0, num_iterations):\n",
        "\n",
        "        # Forward propagation: LINEAR -> RELU -> LINEAR -> RELU -> LINEAR -> SIGMOID.\n",
        "        if keep_prob == 1:\n",
        "            a3, cache = forward_propagation(X, parameters)\n",
        "        elif keep_prob < 1:\n",
        "            a3, cache = forward_propagation_with_dropout(X, parameters, keep_prob)\n",
        "\n",
        "        # Cost function\n",
        "        if lambd == 0:\n",
        "            cost = compute_cost(a3, Y)\n",
        "        else:\n",
        "            cost = compute_cost_with_regularization(a3, Y, parameters, lambd)\n",
        "\n",
        "        # Backward propagation.\n",
        "        assert(lambd==0 or keep_prob==1)    # it is possible to use both L2 regularization and dropout,\n",
        "                                            # but this assignment will only explore one at a time\n",
        "        if lambd == 0 and keep_prob == 1:\n",
        "            grads = backward_propagation(X, Y, cache)\n",
        "        elif lambd != 0:\n",
        "            grads = backward_propagation_with_regularization(X, Y, cache, lambd)\n",
        "        elif keep_prob < 1:\n",
        "            grads = backward_propagation_with_dropout(X, Y, cache, keep_prob)\n",
        "\n",
        "        # Update parameters.\n",
        "        parameters = update_parameters(parameters, grads, learning_rate)\n",
        "\n",
        "        # Print the loss every 10000 iterations\n",
        "        if print_cost and i % 10000 == 0:\n",
        "            print(\"Cost after iteration {}: {}\".format(i, cost))\n",
        "        if print_cost and i % 1000 == 0:\n",
        "            costs.append(cost)\n",
        "\n",
        "    # plot the cost\n",
        "    plt.plot(costs)\n",
        "    plt.ylabel('cost')\n",
        "    plt.xlabel('iterations (x1,000)')\n",
        "    plt.title(\"Learning rate =\" + str(learning_rate))\n",
        "    plt.show()\n",
        "\n",
        "    return parameters"
      ]
    },
    {
      "cell_type": "markdown",
      "metadata": {
        "id": "7TWwCl2OkAg2"
      },
      "source": [
        "Let's train the model without any regularization, and observe the accuracy on the train/test sets."
      ]
    },
    {
      "cell_type": "code",
      "execution_count": null,
      "metadata": {
        "scrolled": false,
        "id": "pDNpUVcxkAg2",
        "outputId": "4f6512dc-56d1-464c-8622-78f434e38b42",
        "colab": {
          "base_uri": "https://localhost:8080/",
          "height": 207
        }
      },
      "outputs": [
        {
          "output_type": "error",
          "ename": "NameError",
          "evalue": "name 'train_X' is not defined",
          "traceback": [
            "\u001b[0;31m---------------------------------------------------------------------------\u001b[0m",
            "\u001b[0;31mNameError\u001b[0m                                 Traceback (most recent call last)",
            "\u001b[0;32m/tmp/ipython-input-10-3122990958.py\u001b[0m in \u001b[0;36m<cell line: 0>\u001b[0;34m()\u001b[0m\n\u001b[0;32m----> 1\u001b[0;31m \u001b[0mparameters\u001b[0m \u001b[0;34m=\u001b[0m \u001b[0mmodel\u001b[0m\u001b[0;34m(\u001b[0m\u001b[0mtrain_X\u001b[0m\u001b[0;34m,\u001b[0m \u001b[0mtrain_Y\u001b[0m\u001b[0;34m)\u001b[0m\u001b[0;34m\u001b[0m\u001b[0;34m\u001b[0m\u001b[0m\n\u001b[0m\u001b[1;32m      2\u001b[0m \u001b[0mprint\u001b[0m \u001b[0;34m(\u001b[0m\u001b[0;34m\"On the training set:\"\u001b[0m\u001b[0;34m)\u001b[0m\u001b[0;34m\u001b[0m\u001b[0;34m\u001b[0m\u001b[0m\n\u001b[1;32m      3\u001b[0m \u001b[0mpredictions_train\u001b[0m \u001b[0;34m=\u001b[0m \u001b[0mpredict\u001b[0m\u001b[0;34m(\u001b[0m\u001b[0mtrain_X\u001b[0m\u001b[0;34m,\u001b[0m \u001b[0mtrain_Y\u001b[0m\u001b[0;34m,\u001b[0m \u001b[0mparameters\u001b[0m\u001b[0;34m)\u001b[0m\u001b[0;34m\u001b[0m\u001b[0;34m\u001b[0m\u001b[0m\n\u001b[1;32m      4\u001b[0m \u001b[0mprint\u001b[0m \u001b[0;34m(\u001b[0m\u001b[0;34m\"On the test set:\"\u001b[0m\u001b[0;34m)\u001b[0m\u001b[0;34m\u001b[0m\u001b[0;34m\u001b[0m\u001b[0m\n\u001b[1;32m      5\u001b[0m \u001b[0mpredictions_test\u001b[0m \u001b[0;34m=\u001b[0m \u001b[0mpredict\u001b[0m\u001b[0;34m(\u001b[0m\u001b[0mtest_X\u001b[0m\u001b[0;34m,\u001b[0m \u001b[0mtest_Y\u001b[0m\u001b[0;34m,\u001b[0m \u001b[0mparameters\u001b[0m\u001b[0;34m)\u001b[0m\u001b[0;34m\u001b[0m\u001b[0;34m\u001b[0m\u001b[0m\n",
            "\u001b[0;31mNameError\u001b[0m: name 'train_X' is not defined"
          ]
        }
      ],
      "source": [
        "parameters = model(train_X, train_Y)\n",
        "print (\"On the training set:\")\n",
        "predictions_train = predict(train_X, train_Y, parameters)\n",
        "print (\"On the test set:\")\n",
        "predictions_test = predict(test_X, test_Y, parameters)"
      ]
    },
    {
      "cell_type": "markdown",
      "metadata": {
        "id": "QZ7XybKZkAg3"
      },
      "source": [
        "The train accuracy is 94.8% while the test accuracy is 91.5%. This is the **baseline model** (you will observe the impact of regularization on this model). Run the following code to plot the decision boundary of your model."
      ]
    },
    {
      "cell_type": "code",
      "execution_count": null,
      "metadata": {
        "scrolled": false,
        "id": "clChv-NlkAg3"
      },
      "outputs": [],
      "source": [
        "plt.title(\"Model without regularization\")\n",
        "axes = plt.gca()\n",
        "axes.set_xlim([-0.75,0.40])\n",
        "axes.set_ylim([-0.75,0.65])\n",
        "plot_decision_boundary(lambda x: predict_dec(parameters, x.T), train_X, train_Y)"
      ]
    },
    {
      "cell_type": "markdown",
      "metadata": {
        "id": "TNc90qO2kAg3"
      },
      "source": [
        "The non-regularized model is obviously overfitting the training set. It is fitting the noisy points! Lets now look at two techniques to reduce overfitting."
      ]
    },
    {
      "cell_type": "markdown",
      "metadata": {
        "id": "376O1yrLkAg3"
      },
      "source": [
        "## 2 - L2 Regularization\n",
        "\n",
        "The standard way to avoid overfitting is called **L2 regularization**. It consists of appropriately modifying your cost function, from:\n",
        "$$J = -\\frac{1}{m} \\sum\\limits_{i = 1}^{m} \\large{(}\\small  y^{(i)}\\log\\left(a^{[L](i)}\\right) + (1-y^{(i)})\\log\\left(1- a^{[L](i)}\\right) \\large{)} \\tag{1}$$\n",
        "To:\n",
        "$$J_{regularized} = \\small \\underbrace{-\\frac{1}{m} \\sum\\limits_{i = 1}^{m} \\large{(}\\small y^{(i)}\\log\\left(a^{[L](i)}\\right) + (1-y^{(i)})\\log\\left(1- a^{[L](i)}\\right) \\large{)} }_\\text{cross-entropy cost} + \\underbrace{\\frac{1}{m} \\frac{\\lambda}{2} \\sum\\limits_l\\sum\\limits_k\\sum\\limits_j W_{k,j}^{[l]2} }_\\text{L2 regularization cost} \\tag{2}$$\n",
        "\n",
        "Let's modify your cost and observe the consequences.\n",
        "\n",
        "**Exercise**: Implement `compute_cost_with_regularization()` which computes the cost given by formula (2). To calculate $\\sum\\limits_k\\sum\\limits_j W_{k,j}^{[l]2}$  , use :\n",
        "```python\n",
        "np.sum(np.square(Wl))\n",
        "```\n",
        "Note that you have to do this for $W^{[1]}$, $W^{[2]}$ and $W^{[3]}$, then sum the three terms and multiply by $ \\frac{1}{m} \\frac{\\lambda}{2} $."
      ]
    },
    {
      "cell_type": "code",
      "execution_count": null,
      "metadata": {
        "id": "GNwdrPUUkAg4"
      },
      "outputs": [],
      "source": [
        "# GRADED FUNCTION: compute_cost_with_regularization\n",
        "\n",
        "def compute_cost_with_regularization(A3, Y, parameters, lambd):\n",
        "    \"\"\"\n",
        "    Implement the cost function with L2 regularization. See formula (2) above.\n",
        "\n",
        "    Arguments:\n",
        "    A3 -- post-activation, output of forward propagation, of shape (output size, number of examples)\n",
        "    Y -- \"true\" labels vector, of shape (output size, number of examples)\n",
        "    parameters -- python dictionary containing parameters of the model\n",
        "\n",
        "    Returns:\n",
        "    cost - value of the regularized loss function (formula (2))\n",
        "    \"\"\"\n",
        "    m = Y.shape[1]\n",
        "    W1 = parameters[\"W1\"]\n",
        "    W2 = parameters[\"W2\"]\n",
        "    W3 = parameters[\"W3\"]\n",
        "\n",
        "    cross_entropy_cost = compute_cost(A3, Y) # This gives you the cross-entropy part of the cost\n",
        "\n",
        "    ### START CODE HERE ### (approx. 1 line)\n",
        "    L2_regularization_cost = (np.sum(np.square(W1))+np.sum(np.square(W2))+np.sum(np.square(W3)))*0.5*lambd/m\n",
        "    ### END CODER HERE ###\n",
        "\n",
        "    cost = cross_entropy_cost + L2_regularization_cost\n",
        "\n",
        "    return cost"
      ]
    },
    {
      "cell_type": "code",
      "execution_count": null,
      "metadata": {
        "id": "S4TorITLkAg4",
        "outputId": "5dc3eec3-7d26-4729-c092-0bca2f5967af",
        "colab": {
          "base_uri": "https://localhost:8080/",
          "height": 292
        }
      },
      "outputs": [
        {
          "output_type": "error",
          "ename": "NameError",
          "evalue": "name 'compute_cost' is not defined",
          "traceback": [
            "\u001b[0;31m---------------------------------------------------------------------------\u001b[0m",
            "\u001b[0;31mNameError\u001b[0m                                 Traceback (most recent call last)",
            "\u001b[0;32m/tmp/ipython-input-14-3025293023.py\u001b[0m in \u001b[0;36m<cell line: 0>\u001b[0;34m()\u001b[0m\n\u001b[1;32m      1\u001b[0m \u001b[0mA3\u001b[0m\u001b[0;34m,\u001b[0m \u001b[0mY_assess\u001b[0m\u001b[0;34m,\u001b[0m \u001b[0mparameters\u001b[0m \u001b[0;34m=\u001b[0m \u001b[0mcompute_cost_with_regularization_test_case\u001b[0m\u001b[0;34m(\u001b[0m\u001b[0;34m)\u001b[0m\u001b[0;34m\u001b[0m\u001b[0;34m\u001b[0m\u001b[0m\n\u001b[1;32m      2\u001b[0m \u001b[0;34m\u001b[0m\u001b[0m\n\u001b[0;32m----> 3\u001b[0;31m \u001b[0mprint\u001b[0m\u001b[0;34m(\u001b[0m\u001b[0;34m\"cost = \"\u001b[0m \u001b[0;34m+\u001b[0m \u001b[0mstr\u001b[0m\u001b[0;34m(\u001b[0m\u001b[0mcompute_cost_with_regularization\u001b[0m\u001b[0;34m(\u001b[0m\u001b[0mA3\u001b[0m\u001b[0;34m,\u001b[0m \u001b[0mY_assess\u001b[0m\u001b[0;34m,\u001b[0m \u001b[0mparameters\u001b[0m\u001b[0;34m,\u001b[0m \u001b[0mlambd\u001b[0m \u001b[0;34m=\u001b[0m \u001b[0;36m0.1\u001b[0m\u001b[0;34m)\u001b[0m\u001b[0;34m)\u001b[0m\u001b[0;34m)\u001b[0m\u001b[0;34m\u001b[0m\u001b[0;34m\u001b[0m\u001b[0m\n\u001b[0m",
            "\u001b[0;32m/tmp/ipython-input-13-1892692766.py\u001b[0m in \u001b[0;36mcompute_cost_with_regularization\u001b[0;34m(A3, Y, parameters, lambd)\u001b[0m\n\u001b[1;32m     18\u001b[0m     \u001b[0mW3\u001b[0m \u001b[0;34m=\u001b[0m \u001b[0mparameters\u001b[0m\u001b[0;34m[\u001b[0m\u001b[0;34m\"W3\"\u001b[0m\u001b[0;34m]\u001b[0m\u001b[0;34m\u001b[0m\u001b[0;34m\u001b[0m\u001b[0m\n\u001b[1;32m     19\u001b[0m \u001b[0;34m\u001b[0m\u001b[0m\n\u001b[0;32m---> 20\u001b[0;31m     \u001b[0mcross_entropy_cost\u001b[0m \u001b[0;34m=\u001b[0m \u001b[0mcompute_cost\u001b[0m\u001b[0;34m(\u001b[0m\u001b[0mA3\u001b[0m\u001b[0;34m,\u001b[0m \u001b[0mY\u001b[0m\u001b[0;34m)\u001b[0m \u001b[0;31m# This gives you the cross-entropy part of the cost\u001b[0m\u001b[0;34m\u001b[0m\u001b[0;34m\u001b[0m\u001b[0m\n\u001b[0m\u001b[1;32m     21\u001b[0m \u001b[0;34m\u001b[0m\u001b[0m\n\u001b[1;32m     22\u001b[0m     \u001b[0;31m### START CODE HERE ### (approx. 1 line)\u001b[0m\u001b[0;34m\u001b[0m\u001b[0;34m\u001b[0m\u001b[0m\n",
            "\u001b[0;31mNameError\u001b[0m: name 'compute_cost' is not defined"
          ]
        }
      ],
      "source": [
        "A3, Y_assess, parameters = compute_cost_with_regularization_test_case()\n",
        "\n",
        "print(\"cost = \" + str(compute_cost_with_regularization(A3, Y_assess, parameters, lambd = 0.1)))"
      ]
    },
    {
      "cell_type": "markdown",
      "metadata": {
        "id": "N0klvvQykAg4"
      },
      "source": [
        "**Expected Output**:\n",
        "\n",
        "<table>\n",
        "    <tr>\n",
        "    <td>\n",
        "    **cost**\n",
        "    </td>\n",
        "        <td>\n",
        "    1.78648594516\n",
        "    </td>\n",
        "    \n",
        "    </tr>\n",
        "\n",
        "</table>"
      ]
    },
    {
      "cell_type": "markdown",
      "metadata": {
        "id": "7OxBHJAVkAg4"
      },
      "source": [
        "Of course, because you changed the cost, you have to change backward propagation as well! All the gradients have to be computed with respect to this new cost.\n",
        "\n",
        "**Exercise**: Implement the changes needed in backward propagation to take into account regularization. The changes only concern dW1, dW2 and dW3. For each, you have to add the regularization term's gradient ($\\frac{d}{dW} ( \\frac{1}{2}\\frac{\\lambda}{m}  W^2) = \\frac{\\lambda}{m} W$)."
      ]
    },
    {
      "cell_type": "code",
      "execution_count": null,
      "metadata": {
        "id": "z52ynALDkAg4"
      },
      "outputs": [],
      "source": [
        "# GRADED FUNCTION: backward_propagation_with_regularization\n",
        "\n",
        "def backward_propagation_with_regularization(X, Y, cache, lambd):\n",
        "    \"\"\"\n",
        "    Implements the backward propagation of our baseline model to which we added an L2 regularization.\n",
        "\n",
        "    Arguments:\n",
        "    X -- input dataset, of shape (input size, number of examples)\n",
        "    Y -- \"true\" labels vector, of shape (output size, number of examples)\n",
        "    cache -- cache output from forward_propagation()\n",
        "    lambd -- regularization hyperparameter, scalar\n",
        "\n",
        "    Returns:\n",
        "    gradients -- A dictionary with the gradients with respect to each parameter, activation and pre-activation variables\n",
        "    \"\"\"\n",
        "\n",
        "    m = X.shape[1]\n",
        "    (Z1, A1, W1, b1, Z2, A2, W2, b2, Z3, A3, W3, b3) = cache\n",
        "\n",
        "    dZ3 = A3 - Y\n",
        "\n",
        "\n",
        "    ### START CODE HERE ### (approx. 1 line)\n",
        "    dW3 = (dZ3@A2.T)/m + (lambd/m)*W3\n",
        "    ### END CODE HERE ###\n",
        "    db3 = 1./m * np.sum(dZ3, axis=1, keepdims = True)\n",
        "\n",
        "    dA2 = np.dot(W3.T, dZ3)\n",
        "    dZ2 = np.multiply(dA2, np.int64(A2 > 0))\n",
        "    ### START CODE HERE ### (approx. 1 line)\n",
        "    dW2 = (dZ2@A1.T)/m + (lambd/m)*W2\n",
        "    ### END CODE HERE ###\n",
        "    db2 = 1./m * np.sum(dZ2, axis=1, keepdims = True)\n",
        "\n",
        "    dA1 = np.dot(W2.T, dZ2)\n",
        "    dZ1 = np.multiply(dA1, np.int64(A1 > 0))\n",
        "    ### START CODE HERE ### (approx. 1 line)\n",
        "    dW1 = (dZ1@X.T)/m + (lambd/m)*W1\n",
        "    ### END CODE HERE ###\n",
        "\n",
        "    db1 = 1./m * np.sum(dZ1, axis=1, keepdims = True)\n",
        "\n",
        "    gradients = {\"dZ3\": dZ3, \"dW3\": dW3, \"db3\": db3,\"dA2\": dA2,\n",
        "                 \"dZ2\": dZ2, \"dW2\": dW2, \"db2\": db2, \"dA1\": dA1,\n",
        "                 \"dZ1\": dZ1, \"dW1\": dW1, \"db1\": db1}\n",
        "    return gradients"
      ]
    },
    {
      "cell_type": "code",
      "execution_count": null,
      "metadata": {
        "id": "kA7WzEAykAg5"
      },
      "outputs": [],
      "source": [
        "X_assess, Y_assess, cache = backward_propagation_with_regularization_test_case()\n",
        "\n",
        "grads = backward_propagation_with_regularization(X_assess, Y_assess, cache, lambd = 0.7)\n",
        "print (\"dW1 = \\n\"+ str(grads[\"dW1\"]))\n",
        "print (\"dW2 = \\n\"+ str(grads[\"dW2\"]))\n",
        "print (\"dW3 = \\n\"+ str(grads[\"dW3\"]))"
      ]
    },
    {
      "cell_type": "markdown",
      "metadata": {
        "id": "Fex7z2lykAg5"
      },
      "source": [
        "**Expected Output**:\n",
        "\n",
        "```\n",
        "dW1 =\n",
        "[[-0.25604646  0.12298827 -0.28297129]\n",
        " [-0.17706303  0.34536094 -0.4410571 ]]\n",
        "dW2 =\n",
        "[[ 0.79276486  0.85133918]\n",
        " [-0.0957219  -0.01720463]\n",
        " [-0.13100772 -0.03750433]]\n",
        "dW3 =\n",
        "[[-1.77691347 -0.11832879 -0.09397446]]\n",
        "```"
      ]
    },
    {
      "cell_type": "markdown",
      "metadata": {
        "id": "AQsYp1RikAg5"
      },
      "source": [
        "Let's now run the model with L2 regularization $(\\lambda = 0.7)$. The `model()` function will call:\n",
        "- `compute_cost_with_regularization` instead of `compute_cost`\n",
        "- `backward_propagation_with_regularization` instead of `backward_propagation`"
      ]
    },
    {
      "cell_type": "code",
      "execution_count": null,
      "metadata": {
        "scrolled": false,
        "id": "P1S0WFeZkAg5"
      },
      "outputs": [],
      "source": [
        "parameters = model(train_X, train_Y, lambd = 0.7)\n",
        "print (\"On the train set:\")\n",
        "predictions_train = predict(train_X, train_Y, parameters)\n",
        "print (\"On the test set:\")\n",
        "predictions_test = predict(test_X, test_Y, parameters)"
      ]
    },
    {
      "cell_type": "markdown",
      "metadata": {
        "id": "QSWOTfMIkAg5"
      },
      "source": [
        "Congrats, the test set accuracy increased to 93%. You have saved the French football team!\n",
        "\n",
        "You are not overfitting the training data anymore. Let's plot the decision boundary."
      ]
    },
    {
      "cell_type": "code",
      "execution_count": null,
      "metadata": {
        "id": "_SfDdwo0kAg5"
      },
      "outputs": [],
      "source": [
        "plt.title(\"Model with L2-regularization\")\n",
        "axes = plt.gca()\n",
        "axes.set_xlim([-0.75,0.40])\n",
        "axes.set_ylim([-0.75,0.65])\n",
        "plot_decision_boundary(lambda x: predict_dec(parameters, x.T), train_X, train_Y)"
      ]
    },
    {
      "cell_type": "markdown",
      "metadata": {
        "id": "DJA8BqnHkAg6"
      },
      "source": [
        "**Observations**:\n",
        "- The value of $\\lambda$ is a hyperparameter that you can tune using a dev set.\n",
        "- L2 regularization makes your decision boundary smoother. If $\\lambda$ is too large, it is also possible to \"oversmooth\", resulting in a model with high bias.\n",
        "\n",
        "**What is L2-regularization actually doing?**:\n",
        "\n",
        "L2-regularization relies on the assumption that a model with small weights is simpler than a model with large weights. Thus, by penalizing the square values of the weights in the cost function you drive all the weights to smaller values. It becomes too costly for the cost to have large weights! This leads to a smoother model in which the output changes more slowly as the input changes.\n",
        "\n",
        "<font color='blue'>\n",
        "**What you should remember** -- the implications of L2-regularization on:\n",
        "  - The cost computation:\n",
        "     - A regularization term is added to the cost\n",
        "  - The backpropagation function:\n",
        "     - There are extra terms in the gradients with respect to weight matrices\n",
        "  - Weights end up smaller (\"weight decay\"):\n",
        "     - Weights are pushed to smaller values."
      ]
    },
    {
      "cell_type": "markdown",
      "metadata": {
        "id": "5TqcpvjTkAg6"
      },
      "source": [
        "## 3 - Dropout\n",
        "\n",
        "Finally, **dropout** is a widely used regularization technique that is specific to deep learning.\n",
        "**It randomly shuts down some neurons in each iteration.** Watch these two videos to see what this means!\n",
        "\n",
        "<!--\n",
        "To understand drop-out, consider this conversation with a friend:\n",
        "- Friend: \"Why do you need all these neurons to train your network and classify images?\".\n",
        "- You: \"Because each neuron contains a weight and can learn specific features/details/shape of an image. The more neurons I have, the more featurse my model learns!\"\n",
        "- Friend: \"I see, but are you sure that your neurons are learning different features and not all the same features?\"\n",
        "- You: \"Good point... Neurons in the same layer actually don't talk to each other. It should be definitly possible that they learn the same image features/shapes/forms/details... which would be redundant. There should be a solution.\"\n",
        "!-->\n",
        "\n",
        "\n",
        "<center>\n",
        "<video width=\"620\" height=\"440\" src=\"images/dropout1_kiank.mp4\" type=\"video/mp4\" controls>\n",
        "</video>\n",
        "</center>\n",
        "<br>\n",
        "<caption><center> <u> Figure 2 </u>: Drop-out on the second hidden layer. <br> At each iteration, you shut down (= set to zero) each neuron of a layer with probability $1 - keep\\_prob$ or keep it with probability $keep\\_prob$ (50% here). The dropped neurons don't contribute to the training in both the forward and backward propagations of the iteration. </center></caption>\n",
        "\n",
        "<center>\n",
        "<video width=\"620\" height=\"440\" src=\"images/dropout2_kiank.mp4\" type=\"video/mp4\" controls>\n",
        "</video>\n",
        "</center>\n",
        "\n",
        "<caption><center> <u> Figure 3 </u>: Drop-out on the first and third hidden layers. <br> $1^{st}$ layer: we shut down on average 40% of the neurons.  $3^{rd}$ layer: we shut down on average 20% of the neurons. </center></caption>\n",
        "\n",
        "\n",
        "When you shut some neurons down, you actually modify your model. The idea behind drop-out is that at each iteration, you train a different model that uses only a subset of your neurons. With dropout, your neurons thus become less sensitive to the activation of one other specific neuron, because that other neuron might be shut down at any time.\n",
        "\n",
        "### 3.1 - Forward propagation with dropout\n",
        "\n",
        "**Exercise**: Implement the forward propagation with dropout. You are using a 3 layer neural network, and will add dropout to the first and second hidden layers. We will not apply dropout to the input layer or output layer.\n",
        "\n",
        "**Instructions**:\n",
        "You would like to shut down some neurons in the first and second layers. To do that, you are going to carry out 4 Steps:\n",
        "1. In lecture, we dicussed creating a variable $d^{[1]}$ with the same shape as $a^{[1]}$ using `np.random.rand()` to randomly get numbers between 0 and 1. Here, you will use a vectorized implementation, so create a random matrix $D^{[1]} = [d^{[1](1)} d^{[1](2)} ... d^{[1](m)}] $ of the same dimension as $A^{[1]}$.\n",
        "2. Set each entry of $D^{[1]}$ to be 1 with probability (`keep_prob`), and 0 otherwise.\n",
        "\n",
        "**Hint:** Let's say that keep_prob = 0.8, which means that we want to keep about 80% of the neurons and drop out about 20% of them.  We want to generate a vector that has 1's and 0's, where about 80% of them are 1 and about 20% are 0.\n",
        "This python statement:  \n",
        "`X = (X < keep_prob).astype(int)`  \n",
        "\n",
        "is conceptually the same as this if-else statement (for the simple case of a one-dimensional array) :\n",
        "\n",
        "```\n",
        "for i,v in enumerate(x):\n",
        "    if v < keep_prob:\n",
        "        x[i] = 1\n",
        "    else: # v >= keep_prob\n",
        "        x[i] = 0\n",
        "```\n",
        "Note that the `X = (X < keep_prob).astype(int)` works with multi-dimensional arrays, and the resulting output preserves the dimensions of the input array.\n",
        "\n",
        "Also note that without using `.astype(int)`, the result is an array of booleans `True` and `False`, which Python automatically converts to 1 and 0 if we multiply it with numbers.  (However, it's better practice to convert data into the data type that we intend, so try using `.astype(int)`.)\n",
        "\n",
        "3. Set $A^{[1]}$ to $A^{[1]} * D^{[1]}$. (You are shutting down some neurons). You can think of $D^{[1]}$ as a mask, so that when it is multiplied with another matrix, it shuts down some of the values.\n",
        "4. Divide $A^{[1]}$ by `keep_prob`. By doing this you are assuring that the result of the cost will still have the same expected value as without drop-out. (This technique is also called inverted dropout.)"
      ]
    },
    {
      "cell_type": "code",
      "execution_count": null,
      "metadata": {
        "id": "ICSyboxOkAg6"
      },
      "outputs": [],
      "source": [
        "# GRADED FUNCTION: forward_propagation_with_dropout\n",
        "\n",
        "def forward_propagation_with_dropout(X, parameters, keep_prob = 0.5):\n",
        "    \"\"\"\n",
        "    Implements the forward propagation: LINEAR -> RELU + DROPOUT -> LINEAR -> RELU + DROPOUT -> LINEAR -> SIGMOID.\n",
        "\n",
        "    Arguments:\n",
        "    X -- input dataset, of shape (2, number of examples)\n",
        "    parameters -- python dictionary containing your parameters \"W1\", \"b1\", \"W2\", \"b2\", \"W3\", \"b3\":\n",
        "                    W1 -- weight matrix of shape (20, 2)\n",
        "                    b1 -- bias vector of shape (20, 1)\n",
        "                    W2 -- weight matrix of shape (3, 20)\n",
        "                    b2 -- bias vector of shape (3, 1)\n",
        "                    W3 -- weight matrix of shape (1, 3)\n",
        "                    b3 -- bias vector of shape (1, 1)\n",
        "    keep_prob - probability of keeping a neuron active during drop-out, scalar\n",
        "\n",
        "    Returns:\n",
        "    A3 -- last activation value, output of the forward propagation, of shape (1,1)\n",
        "    cache -- tuple, information stored for computing the backward propagation\n",
        "    \"\"\"\n",
        "\n",
        "    np.random.seed(1)\n",
        "\n",
        "    # retrieve parameters\n",
        "    W1 = parameters[\"W1\"]\n",
        "    b1 = parameters[\"b1\"]\n",
        "    W2 = parameters[\"W2\"]\n",
        "    b2 = parameters[\"b2\"]\n",
        "    W3 = parameters[\"W3\"]\n",
        "    b3 = parameters[\"b3\"]\n",
        "\n",
        " # LINEAR -> RELU -> LINEAR -> RELU -> LINEAR -> SIGMOID\n",
        "    Z1 = np.dot(W1, X) + b1\n",
        "    A1 = relu(Z1)\n",
        "    ### START CODE HERE ### (approx. 4 lines)                # Steps 1-4 below correspond to the Steps 1-4 described above.\n",
        "    D1 = np.random.rand(A1.shape[0],A1.shape[1])             # Step 1: initialize matrix D1 = np.random.rand(..., ...)\n",
        "    D1 = (D1 < keep_prob).astype(int)                        # Step 2: convert entries of D1 to 0 or 1 (using keep_prob as the threshold)\n",
        "    A1 = A1*D1                                               # Step 3: shut down some neurons of A1\n",
        "    A1 = A1/keep_prob                                        # Step 4: scale the value of neurons that haven't been shut down\n",
        "    ### END CODE HERE ###\n",
        "    Z2 = np.dot(W2, A1) + b2\n",
        "    A2 = relu(Z2)\n",
        "    ### START CODE HERE ### (approx. 4 lines)\n",
        "    D2 = np.random.rand(A2.shape[0],A2.shape[1])              # Step 1: initialize matrix D2 = np.random.rand(..., ...)\n",
        "    D2 = (D2 < keep_prob).astype(int)                         # Step 2: convert entries of D2 to 0 or 1 (using keep_prob as the threshold)\n",
        "    A2 = A2*D2                                                # Step 3: shut down some neurons of A2\n",
        "    A2 /= keep_prob                                           # Step 4: scale the value of neurons that haven't been shut down\n",
        "    ### END CODE HERE ###\n",
        "    Z3 = np.dot(W3, A2) + b3\n",
        "    A3 = sigmoid(Z3)\n",
        "\n",
        "    cache = (Z1, D1, A1, W1, b1, Z2, D2, A2, W2, b2, Z3, A3, W3, b3)\n",
        "\n",
        "    return A3, cache"
      ]
    },
    {
      "cell_type": "code",
      "execution_count": null,
      "metadata": {
        "id": "3vrXEy_RkAg6"
      },
      "outputs": [],
      "source": [
        "X_assess, parameters = forward_propagation_with_dropout_test_case()\n",
        "\n",
        "A3, cache = forward_propagation_with_dropout(X_assess, parameters, keep_prob = 0.7)\n",
        "print (\"A3 = \" + str(A3))"
      ]
    },
    {
      "cell_type": "markdown",
      "metadata": {
        "id": "KNoeYi3WkAg6"
      },
      "source": [
        "**Expected Output**:\n",
        "\n",
        "<table>\n",
        "    <tr>\n",
        "    <td>\n",
        "    **A3**\n",
        "    </td>\n",
        "        <td>\n",
        "    [[ 0.36974721  0.00305176  0.04565099  0.49683389  0.36974721]]\n",
        "    </td>\n",
        "    \n",
        "    </tr>\n",
        "\n",
        "</table>"
      ]
    },
    {
      "cell_type": "markdown",
      "metadata": {
        "id": "Anrhm6qHkAg7"
      },
      "source": [
        "### 3.2 - Backward propagation with dropout\n",
        "\n",
        "**Exercise**: Implement the backward propagation with dropout. As before, you are training a 3 layer network. Add dropout to the first and second hidden layers, using the masks $D^{[1]}$ and $D^{[2]}$ stored in the cache.\n",
        "\n",
        "**Instruction**:\n",
        "Backpropagation with dropout is actually quite easy. You will have to carry out 2 Steps:\n",
        "1. You had previously shut down some neurons during forward propagation, by applying a mask $D^{[1]}$ to `A1`. In backpropagation, you will have to shut down the same neurons, by reapplying the same mask $D^{[1]}$ to `dA1`.\n",
        "2. During forward propagation, you had divided `A1` by `keep_prob`. In backpropagation, you'll therefore have to divide `dA1` by `keep_prob` again (the calculus interpretation is that if $A^{[1]}$ is scaled by `keep_prob`, then its derivative $dA^{[1]}$ is also scaled by the same `keep_prob`).\n"
      ]
    },
    {
      "cell_type": "code",
      "execution_count": null,
      "metadata": {
        "id": "FxMJguwhkAg7"
      },
      "outputs": [],
      "source": [
        "# GRADED FUNCTION: backward_propagation_with_dropout\n",
        "\n",
        "def backward_propagation_with_dropout(X, Y, cache, keep_prob):\n",
        "    \"\"\"\n",
        "    Implements the backward propagation of our baseline model to which we added dropout.\n",
        "\n",
        "    Arguments:\n",
        "    X -- input dataset, of shape (2, number of examples)\n",
        "    Y -- \"true\" labels vector, of shape (output size, number of examples)\n",
        "    cache -- cache output from forward_propagation_with_dropout()\n",
        "    keep_prob - probability of keeping a neuron active during drop-out, scalar\n",
        "\n",
        "    Returns:\n",
        "    gradients -- A dictionary with the gradients with respect to each parameter, activation and pre-activation variables\n",
        "    \"\"\"\n",
        "\n",
        "    m = X.shape[1]\n",
        "    (Z1, D1, A1, W1, b1, Z2, D2, A2, W2, b2, Z3, A3, W3, b3) = cache\n",
        "\n",
        "    dZ3 = A3 - Y\n",
        "    dW3 = 1./m * np.dot(dZ3, A2.T)\n",
        "    db3 = 1./m * np.sum(dZ3, axis=1, keepdims = True)\n",
        "    dA2 = np.dot(W3.T, dZ3)\n",
        "    ### START CODE HERE ### (≈ 2 lines of code)\n",
        "    dA2 = dA2*D2              # Step 1: Apply mask D2 to shut down the same neurons as during the forward propagation\n",
        "    dA2 /= keep_prob          # Step 2: Scale the value of neurons that haven't been shut down\n",
        "    ### END CODE HERE ###\n",
        "    dZ2 = np.multiply(dA2, np.int64(A2 > 0))\n",
        "    dW2 = 1./m * np.dot(dZ2, A1.T)\n",
        "    db2 = 1./m * np.sum(dZ2, axis=1, keepdims = True)\n",
        "\n",
        "    dA1 = np.dot(W2.T, dZ2)\n",
        "    ### START CODE HERE ### (≈ 2 lines of code)\n",
        "    dA1 = dA1*D1             # Step 1: Apply mask D1 to shut down the same neurons as during the forward propagation\n",
        "    dA1 /= keep_prob         # Step 2: Scale the value of neurons that haven't been shut down\n",
        "    ### END CODE HERE ###\n",
        "    dZ1 = np.multiply(dA1, np.int64(A1 > 0))\n",
        "    dW1 = 1./m * np.dot(dZ1, X.T)\n",
        "    db1 = 1./m * np.sum(dZ1, axis=1, keepdims = True)\n",
        "\n",
        "    gradients = {\"dZ3\": dZ3, \"dW3\": dW3, \"db3\": db3,\"dA2\": dA2,\n",
        "                 \"dZ2\": dZ2, \"dW2\": dW2, \"db2\": db2, \"dA1\": dA1,\n",
        "                 \"dZ1\": dZ1, \"dW1\": dW1, \"db1\": db1}\n",
        "\n",
        "    return gradients"
      ]
    },
    {
      "cell_type": "code",
      "execution_count": null,
      "metadata": {
        "id": "kyHNEpO_kAg7"
      },
      "outputs": [],
      "source": [
        "X_assess, Y_assess, cache = backward_propagation_with_dropout_test_case()\n",
        "\n",
        "gradients = backward_propagation_with_dropout(X_assess, Y_assess, cache, keep_prob = 0.8)\n",
        "\n",
        "print (\"dA1 = \\n\" + str(gradients[\"dA1\"]))\n",
        "print (\"dA2 = \\n\" + str(gradients[\"dA2\"]))"
      ]
    },
    {
      "cell_type": "markdown",
      "metadata": {
        "id": "nRJFwMyLkAg8"
      },
      "source": [
        "**Expected Output**:\n",
        "\n",
        "```\n",
        "dA1 =\n",
        "[[ 0.36544439  0.         -0.00188233  0.         -0.17408748]\n",
        " [ 0.65515713  0.         -0.00337459  0.         -0.        ]]\n",
        "dA2 =\n",
        "[[ 0.58180856  0.         -0.00299679  0.         -0.27715731]\n",
        " [ 0.          0.53159854 -0.          0.53159854 -0.34089673]\n",
        " [ 0.          0.         -0.00292733  0.         -0.        ]]\n",
        "```"
      ]
    },
    {
      "cell_type": "markdown",
      "metadata": {
        "id": "lks6RqgSkAg8"
      },
      "source": [
        "Let's now run the model with dropout (`keep_prob = 0.86`). It means at every iteration you shut down each neurons of layer 1 and 2 with 14% probability. The function `model()` will now call:\n",
        "- `forward_propagation_with_dropout` instead of `forward_propagation`.\n",
        "- `backward_propagation_with_dropout` instead of `backward_propagation`."
      ]
    },
    {
      "cell_type": "code",
      "execution_count": null,
      "metadata": {
        "id": "oLlaZ-9HkAg8"
      },
      "outputs": [],
      "source": [
        "parameters = model(train_X, train_Y, keep_prob = 0.86, learning_rate = 0.3)\n",
        "\n",
        "print (\"On the train set:\")\n",
        "predictions_train = predict(train_X, train_Y, parameters)\n",
        "print (\"On the test set:\")\n",
        "predictions_test = predict(test_X, test_Y, parameters)"
      ]
    },
    {
      "cell_type": "markdown",
      "metadata": {
        "id": "_u6cVzi9kAg9"
      },
      "source": [
        "Dropout works great! The test accuracy has increased again (to 95%)! Your model is not overfitting the training set and does a great job on the test set. The French football team will be forever grateful to you!\n",
        "\n",
        "Run the code below to plot the decision boundary."
      ]
    },
    {
      "cell_type": "code",
      "execution_count": null,
      "metadata": {
        "id": "ziZMmU-2kAg9"
      },
      "outputs": [],
      "source": [
        "plt.title(\"Model with dropout\")\n",
        "axes = plt.gca()\n",
        "axes.set_xlim([-0.75,0.40])\n",
        "axes.set_ylim([-0.75,0.65])\n",
        "plot_decision_boundary(lambda x: predict_dec(parameters, x.T), train_X, train_Y)"
      ]
    },
    {
      "cell_type": "markdown",
      "metadata": {
        "id": "McVOU0-8kAg9"
      },
      "source": [
        "**Note**:\n",
        "- A **common mistake** when using dropout is to use it both in training and testing. You should use dropout (randomly eliminate nodes) only in training.\n",
        "- Deep learning frameworks like [tensorflow](https://www.tensorflow.org/api_docs/python/tf/nn/dropout), [PaddlePaddle](http://doc.paddlepaddle.org/release_doc/0.9.0/doc/ui/api/trainer_config_helpers/attrs.html), [keras](https://keras.io/layers/core/#dropout) or [caffe](http://caffe.berkeleyvision.org/tutorial/layers/dropout.html) come with a dropout layer implementation. Don't stress - you will soon learn some of these frameworks.\n",
        "\n",
        "<font color='blue'>\n",
        "**What you should remember about dropout:**\n",
        "- Dropout is a regularization technique.\n",
        "- You only use dropout during training. Don't use dropout (randomly eliminate nodes) during test time.\n",
        "- Apply dropout both during forward and backward propagation.\n",
        "- During training time, divide each dropout layer by keep_prob to keep the same expected value for the activations. For example, if keep_prob is 0.5, then we will on average shut down half the nodes, so the output will be scaled by 0.5 since only the remaining half are contributing to the solution. Dividing by 0.5 is equivalent to multiplying by 2. Hence, the output now has the same expected value. You can check that this works even when keep_prob is other values than 0.5.  "
      ]
    },
    {
      "cell_type": "markdown",
      "metadata": {
        "id": "qmb3IyAlkAg-"
      },
      "source": [
        "## 4 - Conclusions"
      ]
    },
    {
      "cell_type": "markdown",
      "metadata": {
        "id": "TtVupXtBkAg-"
      },
      "source": [
        "**Here are the results of our three models**:\n",
        "\n",
        "<table>\n",
        "    <tr>\n",
        "        <td>\n",
        "        **model**\n",
        "        </td>\n",
        "        <td>\n",
        "        **train accuracy**\n",
        "        </td>\n",
        "        <td>\n",
        "        **test accuracy**\n",
        "        </td>\n",
        "\n",
        "    </tr>\n",
        "        <td>\n",
        "        3-layer NN without regularization\n",
        "        </td>\n",
        "        <td>\n",
        "        95%\n",
        "        </td>\n",
        "        <td>\n",
        "        91.5%\n",
        "        </td>\n",
        "    <tr>\n",
        "        <td>\n",
        "        3-layer NN with L2-regularization\n",
        "        </td>\n",
        "        <td>\n",
        "        94%\n",
        "        </td>\n",
        "        <td>\n",
        "        93%\n",
        "        </td>\n",
        "    </tr>\n",
        "    <tr>\n",
        "        <td>\n",
        "        3-layer NN with dropout\n",
        "        </td>\n",
        "        <td>\n",
        "        93%\n",
        "        </td>\n",
        "        <td>\n",
        "        95%\n",
        "        </td>\n",
        "    </tr>\n",
        "</table>"
      ]
    },
    {
      "cell_type": "markdown",
      "metadata": {
        "id": "OPPghcX4kAg-"
      },
      "source": [
        "Note that regularization hurts training set performance! This is because it limits the ability of the network to overfit to the training set. But since it ultimately gives better test accuracy, it is helping your system."
      ]
    },
    {
      "cell_type": "markdown",
      "metadata": {
        "id": "9PtJcH6gkAg-"
      },
      "source": [
        "Congratulations for finishing this assignment! And also for revolutionizing French football. :-)"
      ]
    },
    {
      "cell_type": "markdown",
      "metadata": {
        "id": "eFM5S1sDkAg-"
      },
      "source": [
        "<font color='blue'>\n",
        "**What we want you to remember from this notebook**:\n",
        "- Regularization will help you reduce overfitting.\n",
        "- Regularization will drive your weights to lower values.\n",
        "- L2 regularization and Dropout are two very effective regularization techniques."
      ]
    }
  ],
  "metadata": {
    "coursera": {
      "course_slug": "deep-neural-network",
      "graded_item_id": "SXQaI",
      "launcher_item_id": "UAwhh"
    },
    "kernelspec": {
      "display_name": "Python 3 (ipykernel)",
      "language": "python",
      "name": "python3"
    },
    "language_info": {
      "codemirror_mode": {
        "name": "ipython",
        "version": 3
      },
      "file_extension": ".py",
      "mimetype": "text/x-python",
      "name": "python",
      "nbconvert_exporter": "python",
      "pygments_lexer": "ipython3",
      "version": "3.11.4"
    },
    "colab": {
      "provenance": []
    }
  },
  "nbformat": 4,
  "nbformat_minor": 0
}